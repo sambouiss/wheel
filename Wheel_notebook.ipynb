{
 "cells": [
  {
   "cell_type": "code",
   "execution_count": 2,
   "metadata": {},
   "outputs": [],
   "source": [
    "import numpy as np"
   ]
  },
  {
   "cell_type": "code",
   "execution_count": 4,
   "metadata": {},
   "outputs": [],
   "source": [
    "divs = [i*2*np.pi/(25) for i in range(25)]"
   ]
  },
  {
   "cell_type": "code",
   "execution_count": 22,
   "metadata": {
    "scrolled": true
   },
   "outputs": [],
   "source": [
    "from collections import Counter\n",
    "def mask(i):\n",
    "    if (i)%2 ==1:\n",
    "        return 1\n",
    "    if (i)%8==0:\n",
    "        return 5\n",
    "    if (i)%4==2:\n",
    "        return 3\n",
    "    if (i)%16==4:\n",
    "        return 10\n",
    "\n",
    "    \n",
    " \n",
    "    else:\n",
    "        return 20\n",
    "\n",
    "a = [mask(i) for i in range(25)]\n",
    "c = Counter(a)"
   ]
  },
  {
   "cell_type": "code",
   "execution_count": 24,
   "metadata": {},
   "outputs": [],
   "source": [
    "prize = {item:mask(i) for  (i, item) in enumerate(divs)}"
   ]
  },
  {
   "cell_type": "code",
   "execution_count": 52,
   "metadata": {},
   "outputs": [
    {
     "name": "stdout",
     "output_type": "stream",
     "text": [
      "3.208420632171869\n"
     ]
    },
    {
     "data": {
      "text/plain": [
       "0"
      ]
     },
     "execution_count": 52,
     "metadata": {},
     "output_type": "execute_result"
    }
   ],
   "source": [
    "def win(theta,bet):\n",
    "    print(theta)\n",
    "    bet_vals = np.asarray([1,3,5,10,20])\n",
    "    for (i,div) in enumerate(divs):\n",
    "    \n",
    "        if theta<div:\n",
    "            payout = prize[divs[i-1]]\n",
    "          \n",
    "            one_hot = np.where(bet_vals==payout,1,0)\n",
    "            return (one_hot*(1+bet_vals)).dot(bet)\n",
    "        elif i == 24:\n",
    "            payout = prize[divs[i]]\n",
    "            one_hot = np.where(bet_vals==payout,1,0)\n",
    "            return (one_hot*(1+bet_vals)).dot(bet)\n",
    "        \n",
    "        \n",
    "bet = np.asarray([1,1,0,0,0])\n",
    "theta =.26\n",
    "theta=(theta+10*(vel))%2*np.pi\n",
    "win(theta,bet)"
   ]
  },
  {
   "cell_type": "code",
   "execution_count": 233,
   "metadata": {},
   "outputs": [],
   "source": [
    "counter = {div:0 for div in divs}\n",
    "theta = 0\n",
    "old_div = divs[0]\n",
    "res = []\n",
    "num_itters = 100000\n",
    "for i in range(num_itters):\n",
    "    #make a random velocity and determite displacement by .5(omega_0 + omega)t \n",
    "    # t is assumed to be 10 omega_0 is 0 \n",
    "    vel = np.random.uniform(7,10)\n",
    "    #parameterizing the formula by which theta is changed could change the results\n",
    "    theta=(theta+10*(vel))%2*np.pi\n",
    "    for (i,div) in enumerate(divs):\n",
    "         if theta<div:\n",
    "                new_div  = divs[i-1]\n",
    "                counter[divs[i-1]]+=1\n",
    "                #We use two equiprobable regions because our interval is 0-2pi\n",
    "                res.append((old_div,new_div>=np.pi))\n",
    "                old_div=new_div\n",
    "                break\n",
    "         elif i == 24:\n",
    "                new_div  = divs[-1]\n",
    "                counter[divs[-1]]+=1\n",
    "                res.append((old_div,new_div>=np.pi))\n",
    "                old_div = new_div\n",
    "                break"
   ]
  },
  {
   "cell_type": "code",
   "execution_count": 251,
   "metadata": {},
   "outputs": [],
   "source": [
    "from scipy.stats import chisquare"
   ]
  },
  {
   "cell_type": "markdown",
   "metadata": {},
   "source": [
    "$\\chi^2$ goodness of fit test for the distribution of the actual observation if $p<alpha$ reject null hypothesis in this case null hypothesis is that the observations (each segement of the wheel) is equally likely"
   ]
  },
  {
   "cell_type": "code",
   "execution_count": 252,
   "metadata": {
    "scrolled": true
   },
   "outputs": [
    {
     "data": {
      "text/plain": [
       "0.9967612376088092"
      ]
     },
     "execution_count": 252,
     "metadata": {},
     "output_type": "execute_result"
    }
   ],
   "source": [
    "\n",
    "v1 = sum([(val-num_itters/25)**2/(num_itters/25) for val in counter.values()])\n",
    "p = 1-chi2.cdf(v1,49)\n",
    "p"
   ]
  },
  {
   "cell_type": "markdown",
   "metadata": {},
   "source": [
    "P is close to one so we cannot say that our observations are uniformly distrubted across the wheel\n",
    "\n"
   ]
  },
  {
   "cell_type": "code",
   "execution_count": 257,
   "metadata": {},
   "outputs": [
    {
     "data": {
      "text/plain": [
       "{0.0: 3898,\n",
       " 0.25132741228718347: 3914,\n",
       " 0.5026548245743669: 3960,\n",
       " 0.7539822368615503: 4025,\n",
       " 1.0053096491487339: 4022,\n",
       " 1.2566370614359172: 4056,\n",
       " 1.5079644737231006: 3999,\n",
       " 1.7592918860102842: 4093,\n",
       " 2.0106192982974678: 3972,\n",
       " 2.261946710584651: 4026,\n",
       " 2.5132741228718345: 3949,\n",
       " 2.764601535159018: 4065,\n",
       " 3.015928947446201: 3922,\n",
       " 3.267256359733385: 3862,\n",
       " 3.5185837720205684: 4087,\n",
       " 3.7699111843077513: 4096,\n",
       " 4.0212385965949355: 4054,\n",
       " 4.272566008882119: 4077,\n",
       " 4.523893421169302: 4061,\n",
       " 4.775220833456485: 3996,\n",
       " 5.026548245743669: 3954,\n",
       " 5.277875658030853: 3974,\n",
       " 5.529203070318036: 4037,\n",
       " 5.780530482605219: 3928,\n",
       " 6.031857894892402: 3973}"
      ]
     },
     "execution_count": 257,
     "metadata": {},
     "output_type": "execute_result"
    }
   ],
   "source": [
    "counter"
   ]
  },
  {
   "cell_type": "code",
   "execution_count": 235,
   "metadata": {},
   "outputs": [],
   "source": [
    "counted = Counter(res)"
   ]
  },
  {
   "cell_type": "code",
   "execution_count": 236,
   "metadata": {
    "scrolled": true
   },
   "outputs": [
    {
     "data": {
      "text/plain": [
       "<matplotlib.collections.PathCollection at 0x1b3a49bd250>"
      ]
     },
     "execution_count": 236,
     "metadata": {},
     "output_type": "execute_result"
    },
    {
     "data": {
      "image/png": "[encoded data removed]",
      "text/plain": [
       "<Figure size 432x288 with 1 Axes>"
      ]
     },
     "metadata": {
      "needs_background": "light"
     },
     "output_type": "display_data"
    }
   ],
   "source": [
    "#scatter plot of result\n",
    "np_res = np.asarray([key for key in counted.keys()])\n",
    "plt.scatter(np_res[:,0],np_res[:,1],c=[val for val in counted.values()])"
   ]
  },
  {
   "cell_type": "markdown",
   "metadata": {},
   "source": [
    "If we make the assumption that each tupple (i.e. we start at $\\theta_n$ and go to either the top half of the wheel or the bottom half) is equally likely then we can use a $\\chi^2$ goodness of fit test where we reject if the observed cdf has a p-value higher than $\\alpha$ our desired confidence level"
   ]
  },
  {
   "cell_type": "code",
   "execution_count": 253,
   "metadata": {},
   "outputs": [],
   "source": [
    "vals = sum([(val-num_itters/50)**2/(num_itters/50) for val in counted.values()])"
   ]
  },
  {
   "cell_type": "code",
   "execution_count": 254,
   "metadata": {},
   "outputs": [
    {
     "data": {
      "text/plain": [
       "0.0"
      ]
     },
     "execution_count": 254,
     "metadata": {},
     "output_type": "execute_result"
    }
   ],
   "source": [
    "p = 1-chi2.cdf(vals,49)\n",
    "p"
   ]
  },
  {
   "cell_type": "markdown",
   "metadata": {},
   "source": [
    "Since p approaches 0 we reject"
   ]
  },
  {
   "cell_type": "code",
   "execution_count": 255,
   "metadata": {},
   "outputs": [
    {
     "data": {
      "text/plain": [
       "187.58900000000003"
      ]
     },
     "execution_count": 255,
     "metadata": {},
     "output_type": "execute_result"
    }
   ],
   "source": [
    "vals"
   ]
  },
  {
   "cell_type": "code",
   "execution_count": 245,
   "metadata": {},
   "outputs": [
    {
     "data": {
      "text/plain": [
       "Counter({(0.0, True): 1847,\n",
       "         (3.5185837720205684, True): 2008,\n",
       "         (4.272566008882119, True): 1964,\n",
       "         (5.780530482605219, False): 2042,\n",
       "         (3.7699111843077513, True): 1980,\n",
       "         (4.775220833456485, False): 2070,\n",
       "         (1.0053096491487339, False): 2075,\n",
       "         (3.015928947446201, True): 1864,\n",
       "         (3.7699111843077513, False): 2116,\n",
       "         (3.267256359733385, False): 2020,\n",
       "         (2.5132741228718345, True): 1913,\n",
       "         (5.026548245743669, False): 2052,\n",
       "         (0.0, False): 2052,\n",
       "         (2.5132741228718345, False): 2036,\n",
       "         (2.261946710584651, True): 1885,\n",
       "         (3.5185837720205684, False): 2079,\n",
       "         (0.25132741228718347, False): 2020,\n",
       "         (2.261946710584651, False): 2141,\n",
       "         (1.7592918860102842, True): 1966,\n",
       "         (5.277875658030853, False): 2032,\n",
       "         (4.523893421169302, False): 2079,\n",
       "         (6.031857894892402, True): 1933,\n",
       "         (5.529203070318036, False): 2131,\n",
       "         (0.5026548245743669, True): 1954,\n",
       "         (0.7539822368615503, True): 1944,\n",
       "         (3.267256359733385, True): 1842,\n",
       "         (4.0212385965949355, False): 2149,\n",
       "         (0.5026548245743669, False): 2006,\n",
       "         (4.272566008882119, False): 2113,\n",
       "         (2.0106192982974678, False): 2057,\n",
       "         (0.7539822368615503, False): 2080,\n",
       "         (1.7592918860102842, False): 2127,\n",
       "         (2.764601535159018, True): 1917,\n",
       "         (1.5079644737231006, True): 1943,\n",
       "         (5.277875658030853, True): 1942,\n",
       "         (4.0212385965949355, True): 1905,\n",
       "         (5.529203070318036, True): 1906,\n",
       "         (3.015928947446201, False): 2058,\n",
       "         (6.031857894892402, False): 2040,\n",
       "         (5.026548245743669, True): 1902,\n",
       "         (1.2566370614359172, False): 2122,\n",
       "         (5.780530482605219, True): 1886,\n",
       "         (0.25132741228718347, True): 1894,\n",
       "         (1.5079644737231006, False): 2056,\n",
       "         (4.523893421169302, True): 1982,\n",
       "         (2.0106192982974678, True): 1915,\n",
       "         (1.2566370614359172, True): 1934,\n",
       "         (1.0053096491487339, True): 1947,\n",
       "         (4.775220833456485, True): 1926,\n",
       "         (2.764601535159018, False): 2148})"
      ]
     },
     "execution_count": 245,
     "metadata": {},
     "output_type": "execute_result"
    }
   ],
   "source": [
    "counted"
   ]
  },
  {
   "cell_type": "code",
   "execution_count": null,
   "metadata": {},
   "outputs": [],
   "source": []
  }
 ],
 "metadata": {
  "kernelspec": {
   "display_name": "Python 3",
   "language": "python",
   "name": "python3"
  },
  "language_info": {
   "codemirror_mode": {
    "name": "ipython",
    "version": 3
   },
   "file_extension": ".py",
   "mimetype": "text/x-python",
   "name": "python",
   "nbconvert_exporter": "python",
   "pygments_lexer": "ipython3",
   "version": "3.8.3"
  }
 },
 "nbformat": 4,
 "nbformat_minor": 4
}
